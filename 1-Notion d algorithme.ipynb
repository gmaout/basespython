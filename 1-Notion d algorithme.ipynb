{
 "cells": [
  {
   "cell_type": "markdown",
   "metadata": {},
   "source": [
    "# TITRE : NOTION D'ALGORITHME\n",
    "## NIVEAU: Débutant \n",
    "### OBJECTIF: Découvrir la notion d'algorithme"
   ]
  },
  {
   "cell_type": "markdown",
   "metadata": {},
   "source": [
    "### Un peu de lecture pour commencer :\n",
    "\n",
    "http://lls-ftp.s3.amazonaws.com/collection-2019/python/FICHE1_ALGORITHME_EN_LANGAGE_NATUREL.pdf\n"
   ]
  },
  {
   "cell_type": "markdown",
   "metadata": {},
   "source": [
    "### Un peu de programmation Python maintenant ....\n"
   ]
  },
  {
   "cell_type": "markdown",
   "metadata": {},
   "source": [
    "### EXERCICE1\n",
    "\n",
    "On considère le programme de calcul suivant.\n",
    "\n",
    "1- Choisir un nombre ;\n",
    "\n",
    "2- Ajouter 3 ;\n",
    "\n",
    "3- Multiplier le résultat par 2 ;\n",
    "\n",
    "4- Retrancher le nombre de départ au nombre obtenu ;\n",
    "\n",
    "5- Noter le résultat final.\n",
    "\n",
    "Voici sa traduction en langage Python:"
   ]
  },
  {
   "cell_type": "code",
   "execution_count": 2,
   "metadata": {},
   "outputs": [
    {
     "name": "stdout",
     "output_type": "stream",
     "text": [
      "choisir un nombre : 8\n",
      "Le résultat est : 14\n"
     ]
    }
   ],
   "source": [
    "nombre=eval(input(\"choisir un nombre : \"))\n",
    "resultat=2*(nombre+3)-nombre\n",
    "print(\"Le résultat est :\",resultat)"
   ]
  },
  {
   "cell_type": "markdown",
   "metadata": {},
   "source": [
    "### EXERCICE 2\n",
    "\n",
    "On considère le programme de calcul suivant:\n",
    "\n",
    "1- Choisir un nombre ;\n",
    "\n",
    "2- Retrancher 4 à ce nombre ;\n",
    "\n",
    "3- Multiplier le résultat par 3 ;\n",
    "\n",
    "4- Ajouter le nombre de départ au nombre obtenu ;\n",
    "\n",
    "5- Noter le résultat final\n",
    "\n",
    "En vous inspirant de l'exemple ci-dessus, écrire un programme Python traduisant cet algorithme."
   ]
  },
  {
   "cell_type": "code",
   "execution_count": 3,
   "metadata": {},
   "outputs": [],
   "source": [
    "#ecrire ici votre code"
   ]
  },
  {
   "cell_type": "markdown",
   "metadata": {},
   "source": [
    "###  EXERCICE 3\n",
    "calcul de l'aire d'un disque:\n",
    "écrire un programme calculant l'aire d'un disque dont le rayon est donné par l'utilisateur:\n"
   ]
  },
  {
   "cell_type": "code",
   "execution_count": null,
   "metadata": {},
   "outputs": [],
   "source": [
    "# Ecrire votre code ici"
   ]
  },
  {
   "cell_type": "markdown",
   "metadata": {},
   "source": [
    "### EXERCICE 3\n",
    "\n",
    "Ecrire un programme calculant l'aire d'un disque dont le rayon est donné  par l'utilsateur"
   ]
  },
  {
   "cell_type": "code",
   "execution_count": null,
   "metadata": {},
   "outputs": [],
   "source": [
    "# Votre code ici "
   ]
  },
  {
   "cell_type": "code",
   "execution_count": null,
   "metadata": {},
   "outputs": [],
   "source": []
  }
 ],
 "metadata": {
  "kernelspec": {
   "display_name": "Python 3",
   "language": "python",
   "name": "python3"
  },
  "language_info": {
   "codemirror_mode": {
    "name": "ipython",
    "version": 3
   },
   "file_extension": ".py",
   "mimetype": "text/x-python",
   "name": "python",
   "nbconvert_exporter": "python",
   "pygments_lexer": "ipython3",
   "version": "3.6.8"
  }
 },
 "nbformat": 4,
 "nbformat_minor": 2
}
